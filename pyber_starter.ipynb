{
 "cells": [
  {
   "cell_type": "code",
   "execution_count": 160,
   "metadata": {},
   "outputs": [
    {
     "data": {
      "text/html": [
       "<div>\n",
       "<style scoped>\n",
       "    .dataframe tbody tr th:only-of-type {\n",
       "        vertical-align: middle;\n",
       "    }\n",
       "\n",
       "    .dataframe tbody tr th {\n",
       "        vertical-align: top;\n",
       "    }\n",
       "\n",
       "    .dataframe thead th {\n",
       "        text-align: right;\n",
       "    }\n",
       "</style>\n",
       "<table border=\"1\" class=\"dataframe\">\n",
       "  <thead>\n",
       "    <tr style=\"text-align: right;\">\n",
       "      <th></th>\n",
       "      <th>city</th>\n",
       "      <th>driver_count</th>\n",
       "      <th>type</th>\n",
       "      <th>date</th>\n",
       "      <th>fare</th>\n",
       "      <th>ride_id</th>\n",
       "    </tr>\n",
       "  </thead>\n",
       "  <tbody>\n",
       "    <tr>\n",
       "      <th>0</th>\n",
       "      <td>Richardfort</td>\n",
       "      <td>38</td>\n",
       "      <td>Urban</td>\n",
       "      <td>2018-02-24 08:40:38</td>\n",
       "      <td>13.93</td>\n",
       "      <td>5628545007794</td>\n",
       "    </tr>\n",
       "    <tr>\n",
       "      <th>1</th>\n",
       "      <td>Richardfort</td>\n",
       "      <td>38</td>\n",
       "      <td>Urban</td>\n",
       "      <td>2018-02-13 12:46:07</td>\n",
       "      <td>14.00</td>\n",
       "      <td>910050116494</td>\n",
       "    </tr>\n",
       "    <tr>\n",
       "      <th>2</th>\n",
       "      <td>Richardfort</td>\n",
       "      <td>38</td>\n",
       "      <td>Urban</td>\n",
       "      <td>2018-02-16 13:52:19</td>\n",
       "      <td>17.92</td>\n",
       "      <td>820639054416</td>\n",
       "    </tr>\n",
       "    <tr>\n",
       "      <th>3</th>\n",
       "      <td>Richardfort</td>\n",
       "      <td>38</td>\n",
       "      <td>Urban</td>\n",
       "      <td>2018-02-01 20:18:28</td>\n",
       "      <td>10.26</td>\n",
       "      <td>9554935945413</td>\n",
       "    </tr>\n",
       "    <tr>\n",
       "      <th>4</th>\n",
       "      <td>Richardfort</td>\n",
       "      <td>38</td>\n",
       "      <td>Urban</td>\n",
       "      <td>2018-04-17 02:26:37</td>\n",
       "      <td>23.00</td>\n",
       "      <td>720020655850</td>\n",
       "    </tr>\n",
       "  </tbody>\n",
       "</table>\n",
       "</div>"
      ],
      "text/plain": [
       "          city  driver_count   type                 date   fare        ride_id\n",
       "0  Richardfort            38  Urban  2018-02-24 08:40:38  13.93  5628545007794\n",
       "1  Richardfort            38  Urban  2018-02-13 12:46:07  14.00   910050116494\n",
       "2  Richardfort            38  Urban  2018-02-16 13:52:19  17.92   820639054416\n",
       "3  Richardfort            38  Urban  2018-02-01 20:18:28  10.26  9554935945413\n",
       "4  Richardfort            38  Urban  2018-04-17 02:26:37  23.00   720020655850"
      ]
     },
     "execution_count": 160,
     "metadata": {},
     "output_type": "execute_result"
    }
   ],
   "source": [
    "%matplotlib inline\n",
    "# Dependencies and Setup\n",
    "import matplotlib.pyplot as plt\n",
    "import pandas as pd\n",
    "import numpy as np\n",
    "\n",
    "# File to Load (Remember to change these)\n",
    "city_data_to_load = \"data/city_data.csv\"\n",
    "ride_data_to_load = \"data/ride_data.csv\"\n",
    "\n",
    "# Read the City and Ride Data\n",
    "city_data_file = pd.read_csv(city_data_to_load)\n",
    "ride_data_file = pd.read_csv(ride_data_to_load)\n",
    "\n",
    "# Combine the data into a single dataset\n",
    "city_ride_file = pd.merge(city_data_file, ride_data_file, how=\"left\", on=\"city\")\n",
    "\n",
    "# Display the data table for preview\n",
    "city_ride_file.head()\n"
   ]
  },
  {
   "cell_type": "code",
   "execution_count": 161,
   "metadata": {
    "scrolled": true
   },
   "outputs": [
    {
     "data": {
      "text/html": [
       "<div>\n",
       "<style scoped>\n",
       "    .dataframe tbody tr th:only-of-type {\n",
       "        vertical-align: middle;\n",
       "    }\n",
       "\n",
       "    .dataframe tbody tr th {\n",
       "        vertical-align: top;\n",
       "    }\n",
       "\n",
       "    .dataframe thead th {\n",
       "        text-align: right;\n",
       "    }\n",
       "</style>\n",
       "<table border=\"1\" class=\"dataframe\">\n",
       "  <thead>\n",
       "    <tr style=\"text-align: right;\">\n",
       "      <th></th>\n",
       "      <th>city</th>\n",
       "      <th>driver_count</th>\n",
       "      <th>type</th>\n",
       "      <th>fare</th>\n",
       "    </tr>\n",
       "  </thead>\n",
       "  <tbody>\n",
       "    <tr>\n",
       "      <th>0</th>\n",
       "      <td>Richardfort</td>\n",
       "      <td>38</td>\n",
       "      <td>Urban</td>\n",
       "      <td>13.93</td>\n",
       "    </tr>\n",
       "    <tr>\n",
       "      <th>1</th>\n",
       "      <td>Richardfort</td>\n",
       "      <td>38</td>\n",
       "      <td>Urban</td>\n",
       "      <td>14.00</td>\n",
       "    </tr>\n",
       "    <tr>\n",
       "      <th>2</th>\n",
       "      <td>Richardfort</td>\n",
       "      <td>38</td>\n",
       "      <td>Urban</td>\n",
       "      <td>17.92</td>\n",
       "    </tr>\n",
       "    <tr>\n",
       "      <th>3</th>\n",
       "      <td>Richardfort</td>\n",
       "      <td>38</td>\n",
       "      <td>Urban</td>\n",
       "      <td>10.26</td>\n",
       "    </tr>\n",
       "    <tr>\n",
       "      <th>4</th>\n",
       "      <td>Richardfort</td>\n",
       "      <td>38</td>\n",
       "      <td>Urban</td>\n",
       "      <td>23.00</td>\n",
       "    </tr>\n",
       "  </tbody>\n",
       "</table>\n",
       "</div>"
      ],
      "text/plain": [
       "          city  driver_count   type   fare\n",
       "0  Richardfort            38  Urban  13.93\n",
       "1  Richardfort            38  Urban  14.00\n",
       "2  Richardfort            38  Urban  17.92\n",
       "3  Richardfort            38  Urban  10.26\n",
       "4  Richardfort            38  Urban  23.00"
      ]
     },
     "execution_count": 161,
     "metadata": {},
     "output_type": "execute_result"
    }
   ],
   "source": [
    "#extract the columns we need\n",
    "city_ride_redux = city_ride_file.iloc[:,[0,1,2,4,]]\n",
    "city_ride_redux.head()\n"
   ]
  },
  {
   "cell_type": "code",
   "execution_count": 162,
   "metadata": {},
   "outputs": [],
   "source": [
    "#fares analysis by city type\n",
    "\n",
    "#separate city data by type\n",
    "city_ride_by_urban = city_ride_redux.loc[city_ride_redux['type']=='Urban',:]\n",
    "city_ride_by_rural = city_ride_redux.loc[city_ride_redux['type']=='Rural',:]\n",
    "city_ride_by_suburban = city_ride_redux.loc[city_ride_redux['type']=='Suburban',:]\n",
    "\n",
    "\n"
   ]
  },
  {
   "cell_type": "code",
   "execution_count": 163,
   "metadata": {},
   "outputs": [],
   "source": [
    "#sum fare city type data\n",
    "\n",
    "city_ride_by_urban_sum = city_ride_by_urban['fare'].sum()\n",
    "city_ride_by_rural_sum = city_ride_by_rural['fare'].sum()\n",
    "city_ride_by_suburban_sum = city_ride_by_suburban['fare'].sum()"
   ]
  },
  {
   "cell_type": "code",
   "execution_count": 164,
   "metadata": {},
   "outputs": [],
   "source": [
    "#combine summed city type data into a data frame \n",
    "\n",
    "city_fares_by_type_df = pd.DataFrame({'Urban Fares':[city_ride_by_urban_sum],'Suburban Fares':[city_ride_by_suburban_sum], 'Rural Fares':[city_ride_by_rural_sum]})\n",
    "\n",
    "#add a Total column\n",
    "city_fares_by_type_df['Total Fares'] = city_fares_by_type_df['Urban Fares'] + city_fares_by_type_df['Suburban Fares'] + city_fares_by_type_df['Rural Fares']\n",
    "\n",
    "#create % and avg of fares columns and do the math\n",
    "city_fares_by_type_df['% Urban'] = (city_fares_by_type_df['Urban Fares']/city_fares_by_type_df['Total Fares'])*100\n",
    "city_fares_by_type_df['% Suburban'] = (city_fares_by_type_df['Suburban Fares']/city_fares_by_type_df['Total Fares'])*100\n",
    "city_fares_by_type_df['% Rural'] = (city_fares_by_type_df['Rural Fares']/city_fares_by_type_df['Total Fares'])*100\n",
    "city_fares_by_type_df['Avg Urban Fare'] = city_ride_by_urban['fare'].mean()\n",
    "city_fares_by_type_df['Avg Suburban Fare'] = city_ride_by_suburban['fare'].mean()\n",
    "city_fares_by_type_df['Avg Rural Fare'] = city_ride_by_rural['fare'].mean()"
   ]
  },
  {
   "cell_type": "code",
   "execution_count": 165,
   "metadata": {},
   "outputs": [
    {
     "data": {
      "text/html": [
       "<div>\n",
       "<style scoped>\n",
       "    .dataframe tbody tr th:only-of-type {\n",
       "        vertical-align: middle;\n",
       "    }\n",
       "\n",
       "    .dataframe tbody tr th {\n",
       "        vertical-align: top;\n",
       "    }\n",
       "\n",
       "    .dataframe thead th {\n",
       "        text-align: right;\n",
       "    }\n",
       "</style>\n",
       "<table border=\"1\" class=\"dataframe\">\n",
       "  <thead>\n",
       "    <tr style=\"text-align: right;\">\n",
       "      <th></th>\n",
       "      <th>Urban Fares</th>\n",
       "      <th>Suburban Fares</th>\n",
       "      <th>Rural Fares</th>\n",
       "      <th>Total Fares</th>\n",
       "      <th>% Urban</th>\n",
       "      <th>% Suburban</th>\n",
       "      <th>% Rural</th>\n",
       "      <th>Avg Urban Fare</th>\n",
       "      <th>Avg Suburban Fare</th>\n",
       "      <th>Avg Rural Fare</th>\n",
       "    </tr>\n",
       "  </thead>\n",
       "  <tbody>\n",
       "    <tr>\n",
       "      <th>0</th>\n",
       "      <td>39854.38</td>\n",
       "      <td>19356.33</td>\n",
       "      <td>4327.93</td>\n",
       "      <td>63538.64</td>\n",
       "      <td>62.724635</td>\n",
       "      <td>30.463872</td>\n",
       "      <td>6.811493</td>\n",
       "      <td>24.525772</td>\n",
       "      <td>30.970128</td>\n",
       "      <td>34.62344</td>\n",
       "    </tr>\n",
       "  </tbody>\n",
       "</table>\n",
       "</div>"
      ],
      "text/plain": [
       "   Urban Fares  Suburban Fares  Rural Fares  Total Fares    % Urban  \\\n",
       "0     39854.38        19356.33      4327.93     63538.64  62.724635   \n",
       "\n",
       "   % Suburban   % Rural  Avg Urban Fare  Avg Suburban Fare  Avg Rural Fare  \n",
       "0   30.463872  6.811493       24.525772          30.970128        34.62344  "
      ]
     },
     "execution_count": 165,
     "metadata": {},
     "output_type": "execute_result"
    }
   ],
   "source": [
    "#check columns\n",
    "\n",
    "\n",
    "city_fares_by_type_df.head()"
   ]
  },
  {
   "cell_type": "code",
   "execution_count": 166,
   "metadata": {},
   "outputs": [
    {
     "data": {
      "text/html": [
       "<div>\n",
       "<style scoped>\n",
       "    .dataframe tbody tr th:only-of-type {\n",
       "        vertical-align: middle;\n",
       "    }\n",
       "\n",
       "    .dataframe tbody tr th {\n",
       "        vertical-align: top;\n",
       "    }\n",
       "\n",
       "    .dataframe thead th {\n",
       "        text-align: right;\n",
       "    }\n",
       "</style>\n",
       "<table border=\"1\" class=\"dataframe\">\n",
       "  <thead>\n",
       "    <tr style=\"text-align: right;\">\n",
       "      <th></th>\n",
       "      <th>Total Fares</th>\n",
       "      <th>Urban Fares</th>\n",
       "      <th>Avg Urban Fare</th>\n",
       "      <th>% Urban</th>\n",
       "      <th>Suburban Fares</th>\n",
       "      <th>Avg Suburban Fare</th>\n",
       "      <th>% Suburban</th>\n",
       "      <th>Rural Fares</th>\n",
       "      <th>Avg Rural Fare</th>\n",
       "      <th>% Rural</th>\n",
       "    </tr>\n",
       "  </thead>\n",
       "  <tbody>\n",
       "    <tr>\n",
       "      <th>0</th>\n",
       "      <td>63538.64</td>\n",
       "      <td>39854.38</td>\n",
       "      <td>24.525772</td>\n",
       "      <td>62.724635</td>\n",
       "      <td>19356.33</td>\n",
       "      <td>30.970128</td>\n",
       "      <td>30.463872</td>\n",
       "      <td>4327.93</td>\n",
       "      <td>34.62344</td>\n",
       "      <td>6.811493</td>\n",
       "    </tr>\n",
       "  </tbody>\n",
       "</table>\n",
       "</div>"
      ],
      "text/plain": [
       "   Total Fares  Urban Fares  Avg Urban Fare    % Urban  Suburban Fares  \\\n",
       "0     63538.64     39854.38       24.525772  62.724635        19356.33   \n",
       "\n",
       "   Avg Suburban Fare  % Suburban  Rural Fares  Avg Rural Fare   % Rural  \n",
       "0          30.970128   30.463872      4327.93        34.62344  6.811493  "
      ]
     },
     "execution_count": 166,
     "metadata": {},
     "output_type": "execute_result"
    }
   ],
   "source": [
    "#rearrange columns\n",
    "city_fares_by_type_df = city_fares_by_type_df[['Total Fares', 'Urban Fares','Avg Urban Fare','% Urban','Suburban Fares','Avg Suburban Fare','% Suburban','Rural Fares','Avg Rural Fare', '% Rural']]\n",
    "city_fares_by_type_df.head()"
   ]
  },
  {
   "cell_type": "code",
   "execution_count": 167,
   "metadata": {},
   "outputs": [],
   "source": [
    "#df formatted\n",
    "#city_fares_by_type_df['Total Fares'] = city_fares_by_type_df['Total Fares'].map(\"${:,.2f}\".format)\n",
    "#city_fares_by_type_df['Urban Fares'] = city_fares_by_type_df['Urban Fares'].map(\"${:,.2f}\".format)\n",
    "#city_fares_by_type_df['Avg Urban Fares'] = city_ride_by_urban['fare'].map(\"${:.2f}\".format)\n",
    "#city_fares_by_type_df['% Urban'] = city_fares_by_type_df['% Urban'].map(\"{:.2f}%\".format)\n",
    "#city_fares_by_type_df['Suburban Fares'] = city_fares_by_type_df['Suburban Fares'].map(\"${:,.2f}\".format)\n",
    "#city_fares_by_type_df['Avg Suburban Fares'] = city_ride_by_suburban['fare'].map(\"${:.2f}\".format)\n",
    "#city_fares_by_type_df['% Suburban'] = city_fares_by_type_df['% Suburban'].map(\"{:.2f}%\".format)\n",
    "#city_fares_by_type_df['Rural Fares'] = city_fares_by_type_df['Rural Fares'].map(\"${:,.2f}\".format)\n",
    "#city_fares_by_type_df['Avg Rural Fares'] = city_ride_by_rural['fare'].map(\"${:.2f}\".format)\n",
    "#city_fares_by_type_df['% Rural'] = city_fares_by_type_df['% Rural'].map(\"{:.2f}%\".format)\n",
    "#\n",
    "\n",
    "#city_fares_by_type_df.head()"
   ]
  },
  {
   "cell_type": "code",
   "execution_count": 168,
   "metadata": {},
   "outputs": [],
   "source": [
    "# driver analysis - sum by city type\n",
    "city_driver_by_urban_sum = city_ride_by_urban['driver_count'].sum()\n",
    "city_driver_by_rural_sum = city_ride_by_rural['driver_count'].sum()\n",
    "city_driver_by_suburban_sum = city_ride_by_suburban['driver_count'].sum()"
   ]
  },
  {
   "cell_type": "code",
   "execution_count": 169,
   "metadata": {},
   "outputs": [],
   "source": [
    "#combine summed driver by city type data into a data frame \n",
    "\n",
    "city_driver_by_type_df = pd.DataFrame({'Urban Drivers':[city_driver_by_urban_sum],'Suburban Drivers':[city_driver_by_suburban_sum], 'Rural Drivers':[city_driver_by_rural_sum]})\n",
    "\n",
    "#add a Total column\n",
    "city_driver_by_type_df['Total Drivers'] = city_driver_by_type_df['Urban Drivers'] + city_driver_by_type_df['Suburban Drivers'] + city_driver_by_type_df['Rural Drivers']\n",
    "\n",
    "#create % of fares columns and do the math\n",
    "city_driver_by_type_df['% Urban Drivers'] = (city_driver_by_type_df['Urban Drivers']/city_driver_by_type_df['Total Drivers'])*100\n",
    "city_driver_by_type_df['% Suburban Drivers'] = (city_driver_by_type_df['Suburban Drivers']/city_driver_by_type_df['Total Drivers'])*100\n",
    "city_driver_by_type_df['% Rural Drivers'] = (city_driver_by_type_df['Rural Drivers']/city_driver_by_type_df['Total Drivers'])*100"
   ]
  },
  {
   "cell_type": "code",
   "execution_count": 170,
   "metadata": {},
   "outputs": [
    {
     "data": {
      "text/html": [
       "<div>\n",
       "<style scoped>\n",
       "    .dataframe tbody tr th:only-of-type {\n",
       "        vertical-align: middle;\n",
       "    }\n",
       "\n",
       "    .dataframe tbody tr th {\n",
       "        vertical-align: top;\n",
       "    }\n",
       "\n",
       "    .dataframe thead th {\n",
       "        text-align: right;\n",
       "    }\n",
       "</style>\n",
       "<table border=\"1\" class=\"dataframe\">\n",
       "  <thead>\n",
       "    <tr style=\"text-align: right;\">\n",
       "      <th></th>\n",
       "      <th>Total Drivers</th>\n",
       "      <th>Urban Drivers</th>\n",
       "      <th>% Urban Drivers</th>\n",
       "      <th>Suburban Drivers</th>\n",
       "      <th>% Suburban Drivers</th>\n",
       "      <th>Rural Drivers</th>\n",
       "      <th>% Rural Drivers</th>\n",
       "    </tr>\n",
       "  </thead>\n",
       "  <tbody>\n",
       "    <tr>\n",
       "      <th>0</th>\n",
       "      <td>68709</td>\n",
       "      <td>59602</td>\n",
       "      <td>86.74555</td>\n",
       "      <td>8570</td>\n",
       "      <td>12.472893</td>\n",
       "      <td>537</td>\n",
       "      <td>0.781557</td>\n",
       "    </tr>\n",
       "  </tbody>\n",
       "</table>\n",
       "</div>"
      ],
      "text/plain": [
       "   Total Drivers  Urban Drivers  % Urban Drivers  Suburban Drivers  \\\n",
       "0          68709          59602         86.74555              8570   \n",
       "\n",
       "   % Suburban Drivers  Rural Drivers  % Rural Drivers  \n",
       "0           12.472893            537         0.781557  "
      ]
     },
     "execution_count": 170,
     "metadata": {},
     "output_type": "execute_result"
    }
   ],
   "source": [
    "#rearrange columns\n",
    "city_driver_by_type_df = city_driver_by_type_df[['Total Drivers', 'Urban Drivers', '% Urban Drivers', 'Suburban Drivers', '% Suburban Drivers', 'Rural Drivers', '% Rural Drivers']]\n",
    "\n",
    "city_driver_by_type_df.head()"
   ]
  },
  {
   "cell_type": "code",
   "execution_count": 171,
   "metadata": {},
   "outputs": [],
   "source": [
    "#sum fare city type data for ride analysis\n",
    "\n",
    "city_ridecount_by_urban_sum = city_ride_by_urban['fare'].count()\n",
    "city_ridecount_by_rural_sum = city_ride_by_rural['fare'].count()\n",
    "city_ridecount_by_suburban_sum = city_ride_by_suburban['fare'].count()"
   ]
  },
  {
   "cell_type": "code",
   "execution_count": 172,
   "metadata": {},
   "outputs": [],
   "source": [
    "#combine summed ride by city type data into a data frame \n",
    "\n",
    "city_ridecount_by_type_df = pd.DataFrame({'Urban Rides':[city_ridecount_by_urban_sum],'Suburban Rides':[city_ridecount_by_suburban_sum], 'Rural Rides':[city_ridecount_by_rural_sum]})\n",
    "\n",
    "#add a Total column\n",
    "city_ridecount_by_type_df['Total Rides'] = city_ridecount_by_type_df['Urban Rides'] + city_ridecount_by_type_df['Suburban Rides'] + city_ridecount_by_type_df['Rural Rides']\n",
    "\n",
    "#create % of fares columns and do the math\n",
    "city_ridecount_by_type_df['% Urban Rides'] = (city_ridecount_by_type_df['Urban Rides']/city_ridecount_by_type_df['Total Rides'])*100\n",
    "city_ridecount_by_type_df['% Suburban Rides'] = (city_ridecount_by_type_df['Suburban Rides']/city_ridecount_by_type_df['Total Rides'])*100\n",
    "city_ridecount_by_type_df['% Rural Rides'] = (city_ridecount_by_type_df['Rural Rides']/city_ridecount_by_type_df['Total Rides'])*100"
   ]
  },
  {
   "cell_type": "code",
   "execution_count": 173,
   "metadata": {},
   "outputs": [
    {
     "data": {
      "text/html": [
       "<div>\n",
       "<style scoped>\n",
       "    .dataframe tbody tr th:only-of-type {\n",
       "        vertical-align: middle;\n",
       "    }\n",
       "\n",
       "    .dataframe tbody tr th {\n",
       "        vertical-align: top;\n",
       "    }\n",
       "\n",
       "    .dataframe thead th {\n",
       "        text-align: right;\n",
       "    }\n",
       "</style>\n",
       "<table border=\"1\" class=\"dataframe\">\n",
       "  <thead>\n",
       "    <tr style=\"text-align: right;\">\n",
       "      <th></th>\n",
       "      <th>Total Rides</th>\n",
       "      <th>Urban Rides</th>\n",
       "      <th>% Urban Rides</th>\n",
       "      <th>Suburban Rides</th>\n",
       "      <th>% Suburban Rides</th>\n",
       "      <th>Rural Rides</th>\n",
       "      <th>% Rural Rides</th>\n",
       "    </tr>\n",
       "  </thead>\n",
       "  <tbody>\n",
       "    <tr>\n",
       "      <th>0</th>\n",
       "      <td>2375</td>\n",
       "      <td>1625</td>\n",
       "      <td>68.421053</td>\n",
       "      <td>625</td>\n",
       "      <td>26.315789</td>\n",
       "      <td>125</td>\n",
       "      <td>5.263158</td>\n",
       "    </tr>\n",
       "  </tbody>\n",
       "</table>\n",
       "</div>"
      ],
      "text/plain": [
       "   Total Rides  Urban Rides  % Urban Rides  Suburban Rides  % Suburban Rides  \\\n",
       "0         2375         1625      68.421053             625         26.315789   \n",
       "\n",
       "   Rural Rides  % Rural Rides  \n",
       "0          125       5.263158  "
      ]
     },
     "execution_count": 173,
     "metadata": {},
     "output_type": "execute_result"
    }
   ],
   "source": [
    "#rearrange columns\n",
    "city_ridecount_by_type_df = city_ridecount_by_type_df[['Total Rides', 'Urban Rides', '% Urban Rides', 'Suburban Rides', '% Suburban Rides', 'Rural Rides', '% Rural Rides']]\n",
    "\n",
    "city_ridecount_by_type_df.head()"
   ]
  },
  {
   "cell_type": "code",
   "execution_count": 174,
   "metadata": {},
   "outputs": [
    {
     "data": {
      "text/plain": [
       "63538.64"
      ]
     },
     "execution_count": 174,
     "metadata": {},
     "output_type": "execute_result"
    }
   ],
   "source": [
    "total_fares = city_ride_file[\"fare\"].sum()\n",
    "total_fares"
   ]
  },
  {
   "cell_type": "code",
   "execution_count": 175,
   "metadata": {},
   "outputs": [
    {
     "data": {
      "text/plain": [
       "city            2375\n",
       "driver_count    2375\n",
       "type            2375\n",
       "fare            2375\n",
       "dtype: int64"
      ]
     },
     "execution_count": 175,
     "metadata": {},
     "output_type": "execute_result"
    }
   ],
   "source": [
    "#check the data\n",
    "city_ride_redux.count()"
   ]
  },
  {
   "cell_type": "code",
   "execution_count": 176,
   "metadata": {},
   "outputs": [],
   "source": [
    "#city_ride_redux.dtypes"
   ]
  },
  {
   "cell_type": "code",
   "execution_count": 177,
   "metadata": {},
   "outputs": [
    {
     "data": {
      "text/html": [
       "<div>\n",
       "<style scoped>\n",
       "    .dataframe tbody tr th:only-of-type {\n",
       "        vertical-align: middle;\n",
       "    }\n",
       "\n",
       "    .dataframe tbody tr th {\n",
       "        vertical-align: top;\n",
       "    }\n",
       "\n",
       "    .dataframe thead th {\n",
       "        text-align: right;\n",
       "    }\n",
       "</style>\n",
       "<table border=\"1\" class=\"dataframe\">\n",
       "  <thead>\n",
       "    <tr style=\"text-align: right;\">\n",
       "      <th></th>\n",
       "      <th>Rides</th>\n",
       "    </tr>\n",
       "    <tr>\n",
       "      <th>city</th>\n",
       "      <th></th>\n",
       "    </tr>\n",
       "  </thead>\n",
       "  <tbody>\n",
       "    <tr>\n",
       "      <th>Amandaburgh</th>\n",
       "      <td>18</td>\n",
       "    </tr>\n",
       "    <tr>\n",
       "      <th>Barajasview</th>\n",
       "      <td>22</td>\n",
       "    </tr>\n",
       "    <tr>\n",
       "      <th>Barronchester</th>\n",
       "      <td>16</td>\n",
       "    </tr>\n",
       "    <tr>\n",
       "      <th>Bethanyland</th>\n",
       "      <td>18</td>\n",
       "    </tr>\n",
       "    <tr>\n",
       "      <th>Bradshawfurt</th>\n",
       "      <td>10</td>\n",
       "    </tr>\n",
       "  </tbody>\n",
       "</table>\n",
       "</div>"
      ],
      "text/plain": [
       "               Rides\n",
       "city                \n",
       "Amandaburgh       18\n",
       "Barajasview       22\n",
       "Barronchester     16\n",
       "Bethanyland       18\n",
       "Bradshawfurt      10"
      ]
     },
     "execution_count": 177,
     "metadata": {},
     "output_type": "execute_result"
    }
   ],
   "source": [
    "city_counts_b = city_ride_redux.groupby(['city']).count()\n",
    "\n",
    "city_ride_count_df = pd.DataFrame(city_counts_b)\n",
    "\n",
    "del city_ride_count_df[\"driver_count\"]\n",
    "del city_ride_count_df[\"type\"]\n",
    "\n",
    "city_ride_count_df = city_ride_count_df.rename(columns={\"fare\":\"Rides\"})\n",
    "\n",
    "city_ride_count_df.head()\n",
    "\n",
    "\n",
    "\n"
   ]
  },
  {
   "cell_type": "code",
   "execution_count": 178,
   "metadata": {},
   "outputs": [],
   "source": [
    "#total_rides = city_ride_count_df[\"Rides\"].sum()\n",
    "#total_rides_df = pd.DataFrame(total_rides)\n",
    "#total_rides"
   ]
  },
  {
   "cell_type": "code",
   "execution_count": 179,
   "metadata": {},
   "outputs": [
    {
     "data": {
      "text/html": [
       "<div>\n",
       "<style scoped>\n",
       "    .dataframe tbody tr th:only-of-type {\n",
       "        vertical-align: middle;\n",
       "    }\n",
       "\n",
       "    .dataframe tbody tr th {\n",
       "        vertical-align: top;\n",
       "    }\n",
       "\n",
       "    .dataframe thead th {\n",
       "        text-align: right;\n",
       "    }\n",
       "</style>\n",
       "<table border=\"1\" class=\"dataframe\">\n",
       "  <thead>\n",
       "    <tr style=\"text-align: right;\">\n",
       "      <th></th>\n",
       "      <th>city</th>\n",
       "      <th>driver_count</th>\n",
       "      <th>type</th>\n",
       "      <th>fare</th>\n",
       "    </tr>\n",
       "  </thead>\n",
       "  <tbody>\n",
       "    <tr>\n",
       "      <th>0</th>\n",
       "      <td>Richardfort</td>\n",
       "      <td>38</td>\n",
       "      <td>Urban</td>\n",
       "      <td>13.93</td>\n",
       "    </tr>\n",
       "    <tr>\n",
       "      <th>1</th>\n",
       "      <td>Richardfort</td>\n",
       "      <td>38</td>\n",
       "      <td>Urban</td>\n",
       "      <td>14.00</td>\n",
       "    </tr>\n",
       "    <tr>\n",
       "      <th>2</th>\n",
       "      <td>Richardfort</td>\n",
       "      <td>38</td>\n",
       "      <td>Urban</td>\n",
       "      <td>17.92</td>\n",
       "    </tr>\n",
       "    <tr>\n",
       "      <th>3</th>\n",
       "      <td>Richardfort</td>\n",
       "      <td>38</td>\n",
       "      <td>Urban</td>\n",
       "      <td>10.26</td>\n",
       "    </tr>\n",
       "    <tr>\n",
       "      <th>4</th>\n",
       "      <td>Richardfort</td>\n",
       "      <td>38</td>\n",
       "      <td>Urban</td>\n",
       "      <td>23.00</td>\n",
       "    </tr>\n",
       "  </tbody>\n",
       "</table>\n",
       "</div>"
      ],
      "text/plain": [
       "          city  driver_count   type   fare\n",
       "0  Richardfort            38  Urban  13.93\n",
       "1  Richardfort            38  Urban  14.00\n",
       "2  Richardfort            38  Urban  17.92\n",
       "3  Richardfort            38  Urban  10.26\n",
       "4  Richardfort            38  Urban  23.00"
      ]
     },
     "execution_count": 179,
     "metadata": {},
     "output_type": "execute_result"
    }
   ],
   "source": [
    "#group  data by city\n",
    "city_ride_grouped_city = city_ride_redux.groupby(['city'])\n",
    "city_ride_redux.head()"
   ]
  },
  {
   "cell_type": "code",
   "execution_count": 180,
   "metadata": {},
   "outputs": [],
   "source": [
    "#list of all cities\n",
    "#city_list = city_ride_redux[\"city\"].unique()\n"
   ]
  },
  {
   "cell_type": "code",
   "execution_count": 181,
   "metadata": {},
   "outputs": [
    {
     "data": {
      "text/html": [
       "<div>\n",
       "<style scoped>\n",
       "    .dataframe tbody tr th:only-of-type {\n",
       "        vertical-align: middle;\n",
       "    }\n",
       "\n",
       "    .dataframe tbody tr th {\n",
       "        vertical-align: top;\n",
       "    }\n",
       "\n",
       "    .dataframe thead th {\n",
       "        text-align: right;\n",
       "    }\n",
       "</style>\n",
       "<table border=\"1\" class=\"dataframe\">\n",
       "  <thead>\n",
       "    <tr style=\"text-align: right;\">\n",
       "      <th></th>\n",
       "      <th>city</th>\n",
       "      <th>fare</th>\n",
       "    </tr>\n",
       "  </thead>\n",
       "  <tbody>\n",
       "    <tr>\n",
       "      <th>0</th>\n",
       "      <td>Richardfort</td>\n",
       "      <td>13.93</td>\n",
       "    </tr>\n",
       "    <tr>\n",
       "      <th>1</th>\n",
       "      <td>Richardfort</td>\n",
       "      <td>14.00</td>\n",
       "    </tr>\n",
       "    <tr>\n",
       "      <th>2</th>\n",
       "      <td>Richardfort</td>\n",
       "      <td>17.92</td>\n",
       "    </tr>\n",
       "    <tr>\n",
       "      <th>3</th>\n",
       "      <td>Richardfort</td>\n",
       "      <td>10.26</td>\n",
       "    </tr>\n",
       "    <tr>\n",
       "      <th>4</th>\n",
       "      <td>Richardfort</td>\n",
       "      <td>23.00</td>\n",
       "    </tr>\n",
       "  </tbody>\n",
       "</table>\n",
       "</div>"
      ],
      "text/plain": [
       "          city   fare\n",
       "0  Richardfort  13.93\n",
       "1  Richardfort  14.00\n",
       "2  Richardfort  17.92\n",
       "3  Richardfort  10.26\n",
       "4  Richardfort  23.00"
      ]
     },
     "execution_count": 181,
     "metadata": {},
     "output_type": "execute_result"
    }
   ],
   "source": [
    "city_fares = city_ride_redux.iloc[:,[0,3]]\n",
    "city_fares.head()\n",
    "\n"
   ]
  },
  {
   "cell_type": "code",
   "execution_count": 182,
   "metadata": {},
   "outputs": [
    {
     "data": {
      "text/html": [
       "<div>\n",
       "<style scoped>\n",
       "    .dataframe tbody tr th:only-of-type {\n",
       "        vertical-align: middle;\n",
       "    }\n",
       "\n",
       "    .dataframe tbody tr th {\n",
       "        vertical-align: top;\n",
       "    }\n",
       "\n",
       "    .dataframe thead th {\n",
       "        text-align: right;\n",
       "    }\n",
       "</style>\n",
       "<table border=\"1\" class=\"dataframe\">\n",
       "  <thead>\n",
       "    <tr style=\"text-align: right;\">\n",
       "      <th></th>\n",
       "      <th>fare</th>\n",
       "    </tr>\n",
       "    <tr>\n",
       "      <th>city</th>\n",
       "      <th></th>\n",
       "    </tr>\n",
       "  </thead>\n",
       "  <tbody>\n",
       "    <tr>\n",
       "      <th>Amandaburgh</th>\n",
       "      <td>443.55</td>\n",
       "    </tr>\n",
       "    <tr>\n",
       "      <th>Barajasview</th>\n",
       "      <td>557.31</td>\n",
       "    </tr>\n",
       "    <tr>\n",
       "      <th>Barronchester</th>\n",
       "      <td>582.76</td>\n",
       "    </tr>\n",
       "    <tr>\n",
       "      <th>Bethanyland</th>\n",
       "      <td>593.21</td>\n",
       "    </tr>\n",
       "    <tr>\n",
       "      <th>Bradshawfurt</th>\n",
       "      <td>400.64</td>\n",
       "    </tr>\n",
       "  </tbody>\n",
       "</table>\n",
       "</div>"
      ],
      "text/plain": [
       "                 fare\n",
       "city                 \n",
       "Amandaburgh    443.55\n",
       "Barajasview    557.31\n",
       "Barronchester  582.76\n",
       "Bethanyland    593.21\n",
       "Bradshawfurt   400.64"
      ]
     },
     "execution_count": 182,
     "metadata": {},
     "output_type": "execute_result"
    }
   ],
   "source": [
    "#creating city fare total df\n",
    "city_fares_totals = city_fares.groupby(['city']).sum()\n",
    "city_fares_totals_df = pd.DataFrame(city_fares_totals)\n",
    "\n",
    "city_fares_totals_df.head()\n",
    "        "
   ]
  },
  {
   "cell_type": "code",
   "execution_count": 183,
   "metadata": {},
   "outputs": [
    {
     "data": {
      "text/html": [
       "<div>\n",
       "<style scoped>\n",
       "    .dataframe tbody tr th:only-of-type {\n",
       "        vertical-align: middle;\n",
       "    }\n",
       "\n",
       "    .dataframe tbody tr th {\n",
       "        vertical-align: top;\n",
       "    }\n",
       "\n",
       "    .dataframe thead th {\n",
       "        text-align: right;\n",
       "    }\n",
       "</style>\n",
       "<table border=\"1\" class=\"dataframe\">\n",
       "  <thead>\n",
       "    <tr style=\"text-align: right;\">\n",
       "      <th></th>\n",
       "      <th>fare</th>\n",
       "      <th>Rides</th>\n",
       "    </tr>\n",
       "    <tr>\n",
       "      <th>city</th>\n",
       "      <th></th>\n",
       "      <th></th>\n",
       "    </tr>\n",
       "  </thead>\n",
       "  <tbody>\n",
       "    <tr>\n",
       "      <th>Amandaburgh</th>\n",
       "      <td>443.55</td>\n",
       "      <td>18</td>\n",
       "    </tr>\n",
       "    <tr>\n",
       "      <th>Barajasview</th>\n",
       "      <td>557.31</td>\n",
       "      <td>22</td>\n",
       "    </tr>\n",
       "    <tr>\n",
       "      <th>Barronchester</th>\n",
       "      <td>582.76</td>\n",
       "      <td>16</td>\n",
       "    </tr>\n",
       "    <tr>\n",
       "      <th>Bethanyland</th>\n",
       "      <td>593.21</td>\n",
       "      <td>18</td>\n",
       "    </tr>\n",
       "    <tr>\n",
       "      <th>Bradshawfurt</th>\n",
       "      <td>400.64</td>\n",
       "      <td>10</td>\n",
       "    </tr>\n",
       "  </tbody>\n",
       "</table>\n",
       "</div>"
      ],
      "text/plain": [
       "                 fare  Rides\n",
       "city                        \n",
       "Amandaburgh    443.55     18\n",
       "Barajasview    557.31     22\n",
       "Barronchester  582.76     16\n",
       "Bethanyland    593.21     18\n",
       "Bradshawfurt   400.64     10"
      ]
     },
     "execution_count": 183,
     "metadata": {},
     "output_type": "execute_result"
    }
   ],
   "source": [
    "#merge total fares and total rides\n",
    "city_fares_rides_sum = pd.merge(city_fares_totals_df,city_ride_count_df, how='left',on='city')\n",
    "city_fares_rides_sum.head()"
   ]
  },
  {
   "cell_type": "code",
   "execution_count": 184,
   "metadata": {},
   "outputs": [
    {
     "data": {
      "text/html": [
       "<div>\n",
       "<style scoped>\n",
       "    .dataframe tbody tr th:only-of-type {\n",
       "        vertical-align: middle;\n",
       "    }\n",
       "\n",
       "    .dataframe tbody tr th {\n",
       "        vertical-align: top;\n",
       "    }\n",
       "\n",
       "    .dataframe thead th {\n",
       "        text-align: right;\n",
       "    }\n",
       "</style>\n",
       "<table border=\"1\" class=\"dataframe\">\n",
       "  <thead>\n",
       "    <tr style=\"text-align: right;\">\n",
       "      <th></th>\n",
       "      <th>fare</th>\n",
       "    </tr>\n",
       "    <tr>\n",
       "      <th>city</th>\n",
       "      <th></th>\n",
       "    </tr>\n",
       "  </thead>\n",
       "  <tbody>\n",
       "    <tr>\n",
       "      <th>Amandaburgh</th>\n",
       "      <td>24.641667</td>\n",
       "    </tr>\n",
       "    <tr>\n",
       "      <th>Barajasview</th>\n",
       "      <td>25.332273</td>\n",
       "    </tr>\n",
       "    <tr>\n",
       "      <th>Barronchester</th>\n",
       "      <td>36.422500</td>\n",
       "    </tr>\n",
       "    <tr>\n",
       "      <th>Bethanyland</th>\n",
       "      <td>32.956111</td>\n",
       "    </tr>\n",
       "    <tr>\n",
       "      <th>Bradshawfurt</th>\n",
       "      <td>40.064000</td>\n",
       "    </tr>\n",
       "  </tbody>\n",
       "</table>\n",
       "</div>"
      ],
      "text/plain": [
       "                    fare\n",
       "city                    \n",
       "Amandaburgh    24.641667\n",
       "Barajasview    25.332273\n",
       "Barronchester  36.422500\n",
       "Bethanyland    32.956111\n",
       "Bradshawfurt   40.064000"
      ]
     },
     "execution_count": 184,
     "metadata": {},
     "output_type": "execute_result"
    }
   ],
   "source": [
    "#finding average fare by city\n",
    "city_grouped_avg_fare = city_ride_grouped_city['fare'].mean() \n",
    "city_grouped_avg_fare_df = pd.DataFrame(city_grouped_avg_fare)\n",
    "city_grouped_avg_fare_df.head()"
   ]
  },
  {
   "cell_type": "code",
   "execution_count": 185,
   "metadata": {},
   "outputs": [
    {
     "data": {
      "text/html": [
       "<div>\n",
       "<style scoped>\n",
       "    .dataframe tbody tr th:only-of-type {\n",
       "        vertical-align: middle;\n",
       "    }\n",
       "\n",
       "    .dataframe tbody tr th {\n",
       "        vertical-align: top;\n",
       "    }\n",
       "\n",
       "    .dataframe thead th {\n",
       "        text-align: right;\n",
       "    }\n",
       "</style>\n",
       "<table border=\"1\" class=\"dataframe\">\n",
       "  <thead>\n",
       "    <tr style=\"text-align: right;\">\n",
       "      <th></th>\n",
       "      <th>Total Fares</th>\n",
       "      <th>Rides</th>\n",
       "      <th>Average Fare</th>\n",
       "    </tr>\n",
       "    <tr>\n",
       "      <th>city</th>\n",
       "      <th></th>\n",
       "      <th></th>\n",
       "      <th></th>\n",
       "    </tr>\n",
       "  </thead>\n",
       "  <tbody>\n",
       "    <tr>\n",
       "      <th>Amandaburgh</th>\n",
       "      <td>443.55</td>\n",
       "      <td>18</td>\n",
       "      <td>24.641667</td>\n",
       "    </tr>\n",
       "    <tr>\n",
       "      <th>Barajasview</th>\n",
       "      <td>557.31</td>\n",
       "      <td>22</td>\n",
       "      <td>25.332273</td>\n",
       "    </tr>\n",
       "    <tr>\n",
       "      <th>Barronchester</th>\n",
       "      <td>582.76</td>\n",
       "      <td>16</td>\n",
       "      <td>36.422500</td>\n",
       "    </tr>\n",
       "    <tr>\n",
       "      <th>Bethanyland</th>\n",
       "      <td>593.21</td>\n",
       "      <td>18</td>\n",
       "      <td>32.956111</td>\n",
       "    </tr>\n",
       "    <tr>\n",
       "      <th>Bradshawfurt</th>\n",
       "      <td>400.64</td>\n",
       "      <td>10</td>\n",
       "      <td>40.064000</td>\n",
       "    </tr>\n",
       "  </tbody>\n",
       "</table>\n",
       "</div>"
      ],
      "text/plain": [
       "               Total Fares  Rides  Average Fare\n",
       "city                                           \n",
       "Amandaburgh         443.55     18     24.641667\n",
       "Barajasview         557.31     22     25.332273\n",
       "Barronchester       582.76     16     36.422500\n",
       "Bethanyland         593.21     18     32.956111\n",
       "Bradshawfurt        400.64     10     40.064000"
      ]
     },
     "execution_count": 185,
     "metadata": {},
     "output_type": "execute_result"
    }
   ],
   "source": [
    "#merge city fare totals and city fare average\n",
    "city_fare_profile = pd.merge(city_fares_rides_sum,city_grouped_avg_fare_df,how='left',on='city')\n",
    "\n",
    "city_fare_profile = city_fare_profile.rename(columns = {'fare_x':'Total Fares','fare_y':'Average Fare'})\n",
    "city_fare_profile.head()"
   ]
  },
  {
   "cell_type": "code",
   "execution_count": 186,
   "metadata": {},
   "outputs": [
    {
     "data": {
      "text/html": [
       "<div>\n",
       "<style scoped>\n",
       "    .dataframe tbody tr th:only-of-type {\n",
       "        vertical-align: middle;\n",
       "    }\n",
       "\n",
       "    .dataframe tbody tr th {\n",
       "        vertical-align: top;\n",
       "    }\n",
       "\n",
       "    .dataframe thead th {\n",
       "        text-align: right;\n",
       "    }\n",
       "</style>\n",
       "<table border=\"1\" class=\"dataframe\">\n",
       "  <thead>\n",
       "    <tr style=\"text-align: right;\">\n",
       "      <th></th>\n",
       "      <th>city</th>\n",
       "      <th>driver_count</th>\n",
       "      <th>type</th>\n",
       "    </tr>\n",
       "  </thead>\n",
       "  <tbody>\n",
       "    <tr>\n",
       "      <th>638</th>\n",
       "      <td>West Samuelburgh</td>\n",
       "      <td>73</td>\n",
       "      <td>Urban</td>\n",
       "    </tr>\n",
       "    <tr>\n",
       "      <th>1211</th>\n",
       "      <td>South Michelleport</td>\n",
       "      <td>72</td>\n",
       "      <td>Urban</td>\n",
       "    </tr>\n",
       "    <tr>\n",
       "      <th>125</th>\n",
       "      <td>West Anthony</td>\n",
       "      <td>70</td>\n",
       "      <td>Urban</td>\n",
       "    </tr>\n",
       "    <tr>\n",
       "      <th>751</th>\n",
       "      <td>Liumouth</td>\n",
       "      <td>69</td>\n",
       "      <td>Urban</td>\n",
       "    </tr>\n",
       "    <tr>\n",
       "      <th>57</th>\n",
       "      <td>Port Angela</td>\n",
       "      <td>67</td>\n",
       "      <td>Urban</td>\n",
       "    </tr>\n",
       "  </tbody>\n",
       "</table>\n",
       "</div>"
      ],
      "text/plain": [
       "                    city  driver_count   type\n",
       "638     West Samuelburgh            73  Urban\n",
       "1211  South Michelleport            72  Urban\n",
       "125         West Anthony            70  Urban\n",
       "751             Liumouth            69  Urban\n",
       "57           Port Angela            67  Urban"
      ]
     },
     "execution_count": 186,
     "metadata": {},
     "output_type": "execute_result"
    }
   ],
   "source": [
    "#determining driver counts\n",
    "driver_count_city = city_ride_redux.sort_values(['driver_count'], ascending=False)\n",
    "driver_count_city_clean = driver_count_city.drop_duplicates(['city'])\n",
    "total_drivers = driver_count_city_clean[\"driver_count\"].sum()\n",
    "driver_count_city_clean_df = pd.DataFrame(driver_count_city_clean)\n",
    "del driver_count_city_clean_df['fare']\n",
    "#total_drivers\n",
    "driver_count_city_clean_df.head()"
   ]
  },
  {
   "cell_type": "code",
   "execution_count": 192,
   "metadata": {},
   "outputs": [
    {
     "data": {
      "text/html": [
       "<div>\n",
       "<style scoped>\n",
       "    .dataframe tbody tr th:only-of-type {\n",
       "        vertical-align: middle;\n",
       "    }\n",
       "\n",
       "    .dataframe tbody tr th {\n",
       "        vertical-align: top;\n",
       "    }\n",
       "\n",
       "    .dataframe thead th {\n",
       "        text-align: right;\n",
       "    }\n",
       "</style>\n",
       "<table border=\"1\" class=\"dataframe\">\n",
       "  <thead>\n",
       "    <tr style=\"text-align: right;\">\n",
       "      <th></th>\n",
       "      <th>City</th>\n",
       "      <th>Rides</th>\n",
       "      <th>Drivers</th>\n",
       "      <th>Total Fares</th>\n",
       "      <th>Average Fare</th>\n",
       "      <th>City Type</th>\n",
       "    </tr>\n",
       "  </thead>\n",
       "  <tbody>\n",
       "    <tr>\n",
       "      <th>0</th>\n",
       "      <td>Amandaburgh</td>\n",
       "      <td>18</td>\n",
       "      <td>12</td>\n",
       "      <td>443.55</td>\n",
       "      <td>24.641667</td>\n",
       "      <td>Urban</td>\n",
       "    </tr>\n",
       "    <tr>\n",
       "      <th>1</th>\n",
       "      <td>Barajasview</td>\n",
       "      <td>22</td>\n",
       "      <td>26</td>\n",
       "      <td>557.31</td>\n",
       "      <td>25.332273</td>\n",
       "      <td>Urban</td>\n",
       "    </tr>\n",
       "    <tr>\n",
       "      <th>2</th>\n",
       "      <td>Barronchester</td>\n",
       "      <td>16</td>\n",
       "      <td>11</td>\n",
       "      <td>582.76</td>\n",
       "      <td>36.422500</td>\n",
       "      <td>Suburban</td>\n",
       "    </tr>\n",
       "    <tr>\n",
       "      <th>3</th>\n",
       "      <td>Bethanyland</td>\n",
       "      <td>18</td>\n",
       "      <td>22</td>\n",
       "      <td>593.21</td>\n",
       "      <td>32.956111</td>\n",
       "      <td>Suburban</td>\n",
       "    </tr>\n",
       "    <tr>\n",
       "      <th>4</th>\n",
       "      <td>Bradshawfurt</td>\n",
       "      <td>10</td>\n",
       "      <td>7</td>\n",
       "      <td>400.64</td>\n",
       "      <td>40.064000</td>\n",
       "      <td>Rural</td>\n",
       "    </tr>\n",
       "  </tbody>\n",
       "</table>\n",
       "</div>"
      ],
      "text/plain": [
       "            City  Rides  Drivers  Total Fares  Average Fare City Type\n",
       "0    Amandaburgh     18       12       443.55     24.641667     Urban\n",
       "1    Barajasview     22       26       557.31     25.332273     Urban\n",
       "2  Barronchester     16       11       582.76     36.422500  Suburban\n",
       "3    Bethanyland     18       22       593.21     32.956111  Suburban\n",
       "4   Bradshawfurt     10        7       400.64     40.064000     Rural"
      ]
     },
     "execution_count": 192,
     "metadata": {},
     "output_type": "execute_result"
    }
   ],
   "source": [
    "#merging \n",
    "city_ride_profile = pd.merge(city_fare_profile,driver_count_city_clean_df, how=\"left\", on=\"city\")\n",
    "\n",
    "\n",
    "#city_ride_driver_fare_merge[\"fare_x\"] = city_ride_driver_fare_merge[\"fare_x\"].astype(float).map(\"${:.2f}\".format)\n",
    "#city_ride_driver_fare_clean = city_ride_driver_fare_merge.rename(columns={\"fare_x\":\"Average Fare\",\"driver_count\": \"Drivers per City\",\"type\":\"City Type\"})\n",
    "\n",
    "city_ride_profile = city_ride_profile.rename(columns={'city':'City','driver_count':'Drivers','type':'City Type'})\n",
    "city_ride_profile = city_ride_profile[['City','Rides','Drivers','Total Fares','Average Fare', 'City Type']]\n",
    "city_ride_profile.head()\n"
   ]
  },
  {
   "cell_type": "code",
   "execution_count": 188,
   "metadata": {},
   "outputs": [],
   "source": [
    "#city_ride_profile_sum_df = pd.merge(city_ride_count_df,city_ride_profile, how=\"left\", on=\"city\")\n",
    "#del city_ride_sum_df['fare_y']\n",
    "#del city_ride_sum_df['fare_x']\n",
    "\n",
    "#city_ride_sum_df.head()"
   ]
  },
  {
   "cell_type": "code",
   "execution_count": 189,
   "metadata": {},
   "outputs": [],
   "source": [
    "#find percentages\n",
    "#print(city_ride_sum_df[\"Total Fares\"].dtype)\n",
    "#per_of_total_fares = ((city_ride_profile[\"Total Fares\"]/city_ride_profile[\"Total Fares\"].sum())*100)\n",
    "#city_ride_sum_df[\"% of Total Sales\"] = per_of_total_fares\n",
    "#city_ride_sum_df[\"% of Total Drivers\"] = ((city_ride_sum_df[\"Drivers per City\"]/city_ride_sum_df[\"Drivers per City\"].sum())*100)\n",
    "#city_ride_sum_df[\"% of Total Rides\"] = ((city_ride_sum_df[\"Rides\"]/city_ride_sum_df[\"Rides\"].sum())*100)\n",
    "\n",
    "#city_ride_sum_df.head()"
   ]
  },
  {
   "cell_type": "code",
   "execution_count": 190,
   "metadata": {},
   "outputs": [],
   "source": [
    "#city_ride_sum_df = city_ride_sum_df[\"Total Fares\"].map(\"${:.2f}\".format)\n",
    "#city_ride_sum_df = city_ride_sum_df[\"% of Total Sales\"].astype(float).map(\"{:.2f}%\".format)\n",
    "#city_ride_sum_df = city_ride_sum_df[\"% of Total Drivers\"].astype(float).map(\"{:.2f}%\".format)\n",
    "#city_ride_sum_df = city_ride_sum_df[\"% of Total Riders\"].astype(float).map(\"{:.2f}%\".format)\n",
    "#city_ride_sum_df.head()"
   ]
  },
  {
   "cell_type": "code",
   "execution_count": null,
   "metadata": {},
   "outputs": [],
   "source": [
    "#Summary data frames to call:\n",
    "# City by type fares analysis: city_fares_by_type_df\n",
    "# City by type driver analysis: city_driver_by_type_df\n",
    "# City by type rides analysis: city_ridecount_by_type_df\n",
    "\n",
    "# City analysis - by city fares, averages, drivers, rides: city_ride_profile"
   ]
  },
  {
   "cell_type": "markdown",
   "metadata": {},
   "source": [
    "## Bubble Plot of Ride Sharing Data"
   ]
  },
  {
   "cell_type": "code",
   "execution_count": 212,
   "metadata": {},
   "outputs": [
    {
     "data": {
      "text/html": [
       "<div>\n",
       "<style scoped>\n",
       "    .dataframe tbody tr th:only-of-type {\n",
       "        vertical-align: middle;\n",
       "    }\n",
       "\n",
       "    .dataframe tbody tr th {\n",
       "        vertical-align: top;\n",
       "    }\n",
       "\n",
       "    .dataframe thead th {\n",
       "        text-align: right;\n",
       "    }\n",
       "</style>\n",
       "<table border=\"1\" class=\"dataframe\">\n",
       "  <thead>\n",
       "    <tr style=\"text-align: right;\">\n",
       "      <th></th>\n",
       "      <th>City</th>\n",
       "      <th>Rides</th>\n",
       "      <th>Drivers</th>\n",
       "      <th>Total Fares</th>\n",
       "      <th>Average Fare</th>\n",
       "      <th>City Type</th>\n",
       "    </tr>\n",
       "  </thead>\n",
       "  <tbody>\n",
       "    <tr>\n",
       "      <th>0</th>\n",
       "      <td>Amandaburgh</td>\n",
       "      <td>18</td>\n",
       "      <td>12</td>\n",
       "      <td>443.55</td>\n",
       "      <td>24.641667</td>\n",
       "      <td>Urban</td>\n",
       "    </tr>\n",
       "    <tr>\n",
       "      <th>1</th>\n",
       "      <td>Barajasview</td>\n",
       "      <td>22</td>\n",
       "      <td>26</td>\n",
       "      <td>557.31</td>\n",
       "      <td>25.332273</td>\n",
       "      <td>Urban</td>\n",
       "    </tr>\n",
       "    <tr>\n",
       "      <th>2</th>\n",
       "      <td>Barronchester</td>\n",
       "      <td>16</td>\n",
       "      <td>11</td>\n",
       "      <td>582.76</td>\n",
       "      <td>36.422500</td>\n",
       "      <td>Suburban</td>\n",
       "    </tr>\n",
       "    <tr>\n",
       "      <th>3</th>\n",
       "      <td>Bethanyland</td>\n",
       "      <td>18</td>\n",
       "      <td>22</td>\n",
       "      <td>593.21</td>\n",
       "      <td>32.956111</td>\n",
       "      <td>Suburban</td>\n",
       "    </tr>\n",
       "    <tr>\n",
       "      <th>4</th>\n",
       "      <td>Bradshawfurt</td>\n",
       "      <td>10</td>\n",
       "      <td>7</td>\n",
       "      <td>400.64</td>\n",
       "      <td>40.064000</td>\n",
       "      <td>Rural</td>\n",
       "    </tr>\n",
       "  </tbody>\n",
       "</table>\n",
       "</div>"
      ],
      "text/plain": [
       "            City  Rides  Drivers  Total Fares  Average Fare City Type\n",
       "0    Amandaburgh     18       12       443.55     24.641667     Urban\n",
       "1    Barajasview     22       26       557.31     25.332273     Urban\n",
       "2  Barronchester     16       11       582.76     36.422500  Suburban\n",
       "3    Bethanyland     18       22       593.21     32.956111  Suburban\n",
       "4   Bradshawfurt     10        7       400.64     40.064000     Rural"
      ]
     },
     "execution_count": 212,
     "metadata": {},
     "output_type": "execute_result"
    }
   ],
   "source": [
    "# Obtain the x and y coordinates for each of the three city types: city_ride_profile\n",
    "\n",
    "city_ride_profile.head()\n",
    "\n"
   ]
  },
  {
   "cell_type": "code",
   "execution_count": 224,
   "metadata": {},
   "outputs": [],
   "source": [
    "# Build the scatter plots for each city types\n",
    "\n",
    "x = city_ride_profile['Rides']\n",
    "y = city_ride_profile['Average Fare']\n",
    "s = city_ride_profile['Total Fares']\n",
    "\n",
    "\n",
    "\n",
    "# Incorporate the other graph properties\n",
    "#colors = {'Urban':'gold','Suburban':'lightcoral','Rural':'lightskyblue'}\n",
    "# Create a legend\n",
    "\n",
    "# Incorporate a text label regarding circle size\n",
    "\n",
    "# Save Figure"
   ]
  },
  {
   "cell_type": "code",
   "execution_count": 227,
   "metadata": {},
   "outputs": [
    {
     "ename": "TypeError",
     "evalue": "'function' object is not subscriptable",
     "output_type": "error",
     "traceback": [
      "\u001b[1;31m---------------------------------------------------------------------------\u001b[0m",
      "\u001b[1;31mTypeError\u001b[0m                                 Traceback (most recent call last)",
      "\u001b[1;32m<ipython-input-227-93d57d811fff>\u001b[0m in \u001b[0;36m<module>\u001b[1;34m()\u001b[0m\n\u001b[0;32m      2\u001b[0m \u001b[1;33m\u001b[0m\u001b[0m\n\u001b[0;32m      3\u001b[0m \u001b[0mplt\u001b[0m\u001b[1;33m.\u001b[0m\u001b[0mscatter\u001b[0m\u001b[1;33m(\u001b[0m\u001b[0mx\u001b[0m\u001b[1;33m,\u001b[0m \u001b[0my\u001b[0m\u001b[1;33m,\u001b[0m \u001b[0ms\u001b[0m\u001b[1;33m,\u001b[0m \u001b[0mc\u001b[0m \u001b[1;33m=\u001b[0m \u001b[1;34m'blue'\u001b[0m\u001b[1;33m,\u001b[0m \u001b[0malpha\u001b[0m\u001b[1;33m=\u001b[0m\u001b[1;36m0.2\u001b[0m\u001b[1;33m)\u001b[0m\u001b[1;33m\u001b[0m\u001b[0m\n\u001b[1;32m----> 4\u001b[1;33m \u001b[0mplt\u001b[0m\u001b[1;33m.\u001b[0m\u001b[0mtitle\u001b[0m\u001b[1;33m[\u001b[0m\u001b[1;34m'Pyber Ride data'\u001b[0m\u001b[1;33m]\u001b[0m\u001b[1;33m\u001b[0m\u001b[0m\n\u001b[0m",
      "\u001b[1;31mTypeError\u001b[0m: 'function' object is not subscriptable"
     ]
    },
    {
     "data": {
      "image/png": "[encoded data removed]",
      "text/plain": [
       "<Figure size 432x288 with 1 Axes>"
      ]
     },
     "metadata": {},
     "output_type": "display_data"
    }
   ],
   "source": [
    "\n",
    "\n",
    "plt.scatter(x, y, s, c = 'blue', alpha=0.2)\n",
    "plt.title['Pyber Ride data']\n"
   ]
  },
  {
   "cell_type": "code",
   "execution_count": 3,
   "metadata": {},
   "outputs": [
    {
     "data": {
      "image/png": "[encoded data removed]",
      "text/plain": [
       "<Figure size 432x288 with 1 Axes>"
      ]
     },
     "metadata": {},
     "output_type": "display_data"
    }
   ],
   "source": [
    "# Show plot\n",
    "plt.show()"
   ]
  },
  {
   "cell_type": "markdown",
   "metadata": {},
   "source": [
    "## Total Fares by City Type"
   ]
  },
  {
   "cell_type": "code",
   "execution_count": 193,
   "metadata": {},
   "outputs": [
    {
     "data": {
      "text/html": [
       "<div>\n",
       "<style scoped>\n",
       "    .dataframe tbody tr th:only-of-type {\n",
       "        vertical-align: middle;\n",
       "    }\n",
       "\n",
       "    .dataframe tbody tr th {\n",
       "        vertical-align: top;\n",
       "    }\n",
       "\n",
       "    .dataframe thead th {\n",
       "        text-align: right;\n",
       "    }\n",
       "</style>\n",
       "<table border=\"1\" class=\"dataframe\">\n",
       "  <thead>\n",
       "    <tr style=\"text-align: right;\">\n",
       "      <th></th>\n",
       "      <th>Total Fares</th>\n",
       "      <th>Urban Fares</th>\n",
       "      <th>Avg Urban Fare</th>\n",
       "      <th>% Urban</th>\n",
       "      <th>Suburban Fares</th>\n",
       "      <th>Avg Suburban Fare</th>\n",
       "      <th>% Suburban</th>\n",
       "      <th>Rural Fares</th>\n",
       "      <th>Avg Rural Fare</th>\n",
       "      <th>% Rural</th>\n",
       "    </tr>\n",
       "  </thead>\n",
       "  <tbody>\n",
       "    <tr>\n",
       "      <th>0</th>\n",
       "      <td>63538.64</td>\n",
       "      <td>39854.38</td>\n",
       "      <td>24.525772</td>\n",
       "      <td>62.724635</td>\n",
       "      <td>19356.33</td>\n",
       "      <td>30.970128</td>\n",
       "      <td>30.463872</td>\n",
       "      <td>4327.93</td>\n",
       "      <td>34.62344</td>\n",
       "      <td>6.811493</td>\n",
       "    </tr>\n",
       "  </tbody>\n",
       "</table>\n",
       "</div>"
      ],
      "text/plain": [
       "   Total Fares  Urban Fares  Avg Urban Fare    % Urban  Suburban Fares  \\\n",
       "0     63538.64     39854.38       24.525772  62.724635        19356.33   \n",
       "\n",
       "   Avg Suburban Fare  % Suburban  Rural Fares  Avg Rural Fare   % Rural  \n",
       "0          30.970128   30.463872      4327.93        34.62344  6.811493  "
      ]
     },
     "execution_count": 193,
     "metadata": {},
     "output_type": "execute_result"
    }
   ],
   "source": [
    "# Calculate Type Percents: city_fares_by_type_df\n",
    "\n",
    "# Build Pie Chart\n",
    "\n",
    "# Save Figure\n",
    "\n",
    "city_fares_by_type_df\n"
   ]
  },
  {
   "cell_type": "code",
   "execution_count": 205,
   "metadata": {},
   "outputs": [
    {
     "data": {
      "text/plain": [
       "Text(0.5,1,'Percent of Total Fares by City Type')"
      ]
     },
     "execution_count": 205,
     "metadata": {},
     "output_type": "execute_result"
    },
    {
     "data": {
      "image/png": "[encoded data removed]",
      "text/plain": [
       "<Figure size 432x288 with 1 Axes>"
      ]
     },
     "metadata": {},
     "output_type": "display_data"
    }
   ],
   "source": [
    "fare_type_labels = [\"Urban\",\"Suburban\",\"Rural\"]\n",
    "x = [39854.38,19356.33,4327.93]\n",
    "fare_type_colors = [\"gold\",\"lightcoral\",\"lightskyblue\"]\n",
    "fare_type_explode = (0.1, 0.1, 0.1)\n",
    "\n",
    "plt.pie(x, explode=fare_type_explode, labels=fare_type_labels, colors=fare_type_colors,\n",
    "        autopct=\"%1.1f%%\", shadow=True, startangle=270)\n",
    "plt.title(\"Percent of Total Fares by City Type\")"
   ]
  },
  {
   "cell_type": "markdown",
   "metadata": {},
   "source": [
    "## Total Rides by City Type"
   ]
  },
  {
   "cell_type": "code",
   "execution_count": 204,
   "metadata": {},
   "outputs": [
    {
     "data": {
      "text/html": [
       "<div>\n",
       "<style scoped>\n",
       "    .dataframe tbody tr th:only-of-type {\n",
       "        vertical-align: middle;\n",
       "    }\n",
       "\n",
       "    .dataframe tbody tr th {\n",
       "        vertical-align: top;\n",
       "    }\n",
       "\n",
       "    .dataframe thead th {\n",
       "        text-align: right;\n",
       "    }\n",
       "</style>\n",
       "<table border=\"1\" class=\"dataframe\">\n",
       "  <thead>\n",
       "    <tr style=\"text-align: right;\">\n",
       "      <th></th>\n",
       "      <th>Total Rides</th>\n",
       "      <th>Urban Rides</th>\n",
       "      <th>% Urban Rides</th>\n",
       "      <th>Suburban Rides</th>\n",
       "      <th>% Suburban Rides</th>\n",
       "      <th>Rural Rides</th>\n",
       "      <th>% Rural Rides</th>\n",
       "    </tr>\n",
       "  </thead>\n",
       "  <tbody>\n",
       "    <tr>\n",
       "      <th>0</th>\n",
       "      <td>2375</td>\n",
       "      <td>1625</td>\n",
       "      <td>68.421053</td>\n",
       "      <td>625</td>\n",
       "      <td>26.315789</td>\n",
       "      <td>125</td>\n",
       "      <td>5.263158</td>\n",
       "    </tr>\n",
       "  </tbody>\n",
       "</table>\n",
       "</div>"
      ],
      "text/plain": [
       "   Total Rides  Urban Rides  % Urban Rides  Suburban Rides  % Suburban Rides  \\\n",
       "0         2375         1625      68.421053             625         26.315789   \n",
       "\n",
       "   Rural Rides  % Rural Rides  \n",
       "0          125       5.263158  "
      ]
     },
     "execution_count": 204,
     "metadata": {},
     "output_type": "execute_result"
    }
   ],
   "source": [
    "# Calculate Ride Percents : city_ridecount_by_type_df\n",
    "city_ridecount_by_type_df"
   ]
  },
  {
   "cell_type": "code",
   "execution_count": 207,
   "metadata": {},
   "outputs": [
    {
     "data": {
      "text/plain": [
       "Text(0.5,1,'Percent of Total Rides by City Type')"
      ]
     },
     "execution_count": 207,
     "metadata": {},
     "output_type": "execute_result"
    },
    {
     "data": {
      "image/png": "[encoded data removed]",
      "text/plain": [
       "<Figure size 432x288 with 1 Axes>"
      ]
     },
     "metadata": {},
     "output_type": "display_data"
    }
   ],
   "source": [
    "\n",
    "\n",
    "# Build Pie Chart\n",
    "ride_labels = [\"Urban\", \"Suburban\", \"Rural\"]\n",
    "x = [1625,625,125]\n",
    "ride_type_colors = [\"gold\",\"lightcoral\",\"lightskyblue\"]\n",
    "ride_type_explode = [0.1,0.1,0.1]\n",
    "\n",
    "plt.pie(x, explode=ride_type_explode, labels=ride_labels, colors=ride_type_colors,\n",
    "        autopct=\"%1.1f%%\", shadow=True, startangle=270)\n",
    "plt.title(\"Percent of Total Rides by City Type\")\n",
    "\n",
    "\n",
    "# Save Figure\n"
   ]
  },
  {
   "cell_type": "markdown",
   "metadata": {},
   "source": [
    "## Total Drivers by City Type"
   ]
  },
  {
   "cell_type": "code",
   "execution_count": 209,
   "metadata": {},
   "outputs": [
    {
     "data": {
      "text/html": [
       "<div>\n",
       "<style scoped>\n",
       "    .dataframe tbody tr th:only-of-type {\n",
       "        vertical-align: middle;\n",
       "    }\n",
       "\n",
       "    .dataframe tbody tr th {\n",
       "        vertical-align: top;\n",
       "    }\n",
       "\n",
       "    .dataframe thead th {\n",
       "        text-align: right;\n",
       "    }\n",
       "</style>\n",
       "<table border=\"1\" class=\"dataframe\">\n",
       "  <thead>\n",
       "    <tr style=\"text-align: right;\">\n",
       "      <th></th>\n",
       "      <th>Total Drivers</th>\n",
       "      <th>Urban Drivers</th>\n",
       "      <th>% Urban Drivers</th>\n",
       "      <th>Suburban Drivers</th>\n",
       "      <th>% Suburban Drivers</th>\n",
       "      <th>Rural Drivers</th>\n",
       "      <th>% Rural Drivers</th>\n",
       "    </tr>\n",
       "  </thead>\n",
       "  <tbody>\n",
       "    <tr>\n",
       "      <th>0</th>\n",
       "      <td>68709</td>\n",
       "      <td>59602</td>\n",
       "      <td>86.74555</td>\n",
       "      <td>8570</td>\n",
       "      <td>12.472893</td>\n",
       "      <td>537</td>\n",
       "      <td>0.781557</td>\n",
       "    </tr>\n",
       "  </tbody>\n",
       "</table>\n",
       "</div>"
      ],
      "text/plain": [
       "   Total Drivers  Urban Drivers  % Urban Drivers  Suburban Drivers  \\\n",
       "0          68709          59602         86.74555              8570   \n",
       "\n",
       "   % Suburban Drivers  Rural Drivers  % Rural Drivers  \n",
       "0           12.472893            537         0.781557  "
      ]
     },
     "execution_count": 209,
     "metadata": {},
     "output_type": "execute_result"
    }
   ],
   "source": [
    "# Calculate Driver Percents: city_driver_by_type_df\n",
    "\n",
    "city_driver_by_type_df\n"
   ]
  },
  {
   "cell_type": "code",
   "execution_count": 210,
   "metadata": {
    "scrolled": true
   },
   "outputs": [
    {
     "data": {
      "text/plain": [
       "Text(0.5,1,'Percent of Total Drivers by City Type')"
      ]
     },
     "execution_count": 210,
     "metadata": {},
     "output_type": "execute_result"
    },
    {
     "data": {
      "image/png": "[encoded data removed]",
      "text/plain": [
       "<Figure size 432x288 with 1 Axes>"
      ]
     },
     "metadata": {},
     "output_type": "display_data"
    }
   ],
   "source": [
    "# Build Pie Chart\n",
    "x = [59602,8570,537]\n",
    "driver_labels = [\"Urban\", \"Suburban\", \"Rural\"]\n",
    "driver_colors = [\"gold\",\"lightcoral\",\"lightskyblue\"]\n",
    "explode = [0.1,0.1,0.1]\n",
    "\n",
    "plt.pie(x, explode=explode, labels=driver_labels, colors=driver_colors,\n",
    "        autopct=\"%1.1f%%\", shadow=True, startangle=270)\n",
    "plt.title(\"Percent of Total Drivers by City Type\")\n",
    "\n",
    "# Save Figure"
   ]
  },
  {
   "cell_type": "code",
   "execution_count": null,
   "metadata": {},
   "outputs": [],
   "source": []
  }
 ],
 "metadata": {
  "anaconda-cloud": {},
  "kernelspec": {
   "display_name": "Python 3",
   "language": "python",
   "name": "python3"
  },
  "language_info": {
   "codemirror_mode": {
    "name": "ipython",
    "version": 3
   },
   "file_extension": ".py",
   "mimetype": "text/x-python",
   "name": "python",
   "nbconvert_exporter": "python",
   "pygments_lexer": "ipython3",
   "version": "3.6.5"
  }
 },
 "nbformat": 4,
 "nbformat_minor": 2
}
